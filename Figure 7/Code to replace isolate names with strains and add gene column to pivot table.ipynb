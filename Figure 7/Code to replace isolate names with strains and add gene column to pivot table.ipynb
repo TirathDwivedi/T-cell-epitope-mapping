{
 "cells": [
  {
   "cell_type": "code",
   "execution_count": 1,
   "id": "5a67e928-10d2-4e23-bd2a-708b4ac8f318",
   "metadata": {},
   "outputs": [],
   "source": [
    "import pandas as pd\n",
    "\n",
    "# Load the Excel file into a pandas DataFrame\n",
    "df_isolate = pd.read_excel('results_JCV scored epitopes.xlsx', sheet_name='Sheet1')\n",
    "df_strain = pd.read_excel('results_JCV scored epitopes.xlsx', sheet_name='Sheet2')\n",
    "\n",
    "# Merge the two DataFrames based on the GenBank Accessions column\n",
    "df_merged = pd.merge(df_isolate, df_strain, on='Isolate')\n",
    "\n",
    "# Rename the Strain column to match the column name in Sheet1\n",
    "df_merged.rename(columns={'Strain': 'New Strain Column Name'}, inplace=True)\n",
    "\n",
    "# Save the merged DataFrame back to a new sheet in the Excel file\n",
    "with pd.ExcelWriter('results_JCV scored epitopes.xlsx', engine='openpyxl', mode='a') as writer:\n",
    "    df_merged.to_excel(writer, sheet_name='Merged Sheet', index=False)\n"
   ]
  },
  {
   "cell_type": "code",
   "execution_count": 2,
   "id": "9fdebecc-3663-40a4-ba08-5eb18cd66721",
   "metadata": {},
   "outputs": [],
   "source": [
    "# Import pandas and openpyxl modules\n",
    "import pandas as pd\n",
    "\n",
    "# Read the two sheets into separate dataframes\n",
    "sheet1_df = pd.read_excel('pivot_table_JCV scored epitopes.xlsx', sheet_name='Sheet1')\n",
    "sheet2_df = pd.read_excel('pivot_table_JCV scored epitopes.xlsx', sheet_name='Sheet2')\n",
    "\n",
    "# Merge the two dataframes on the 'Epitope' column\n",
    "merged_df = pd.merge(sheet1_df, sheet2_df, on='Epitope')\n",
    "\n",
    "# Save the merged dataframe as a new sheet in the same Excel file using openpyxl engine\n",
    "with pd.ExcelWriter('pivot_table_JCV scored epitopes.xlsx', engine='openpyxl', mode='a') as writer:\n",
    "    merged_df.to_excel(writer, sheet_name='Merged', index=False)\n"
   ]
  },
  {
   "cell_type": "code",
   "execution_count": 1,
   "id": "c916003c-9ecc-4882-a59a-94adb7d06b2a",
   "metadata": {},
   "outputs": [],
   "source": [
    "import pandas as pd\n",
    "\n",
    "# Load the Excel file into a pandas DataFrame\n",
    "df_isolate = pd.read_excel('results_crossreactive.xlsx', sheet_name='Sheet2')\n",
    "df_strain = pd.read_excel('results_crossreactive.xlsx', sheet_name='Sheet3')\n",
    "\n",
    "# Merge the two DataFrames based on the GenBank Accessions column\n",
    "df_merged = pd.merge(df_isolate, df_strain, on='Isolate')\n",
    "\n",
    "# Rename the Strain column to match the column name in Sheet1\n",
    "df_merged.rename(columns={'Strain': 'New Strain Column Name'}, inplace=True)\n",
    "\n",
    "# Save the merged DataFrame back to a new sheet in the Excel file\n",
    "with pd.ExcelWriter('results_crossreactive.xlsx', engine='openpyxl', mode='a') as writer:\n",
    "    df_merged.to_excel(writer, sheet_name='Merged Sheet', index=False)\n"
   ]
  }
 ],
 "metadata": {
  "kernelspec": {
   "display_name": "Python 3 (ipykernel)",
   "language": "python",
   "name": "python3"
  },
  "language_info": {
   "codemirror_mode": {
    "name": "ipython",
    "version": 3
   },
   "file_extension": ".py",
   "mimetype": "text/x-python",
   "name": "python",
   "nbconvert_exporter": "python",
   "pygments_lexer": "ipython3",
   "version": "3.9.13"
  }
 },
 "nbformat": 4,
 "nbformat_minor": 5
}
